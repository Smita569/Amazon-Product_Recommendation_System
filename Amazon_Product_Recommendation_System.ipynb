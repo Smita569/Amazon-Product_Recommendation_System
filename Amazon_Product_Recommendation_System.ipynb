{
  "nbformat": 4,
  "nbformat_minor": 0,
  "metadata": {
    "colab": {
      "provenance": [],
      "authorship_tag": "ABX9TyPJp2TC9RqfmXb0ZdqDdW59",
      "include_colab_link": true
    },
    "kernelspec": {
      "name": "python3",
      "display_name": "Python 3"
    },
    "language_info": {
      "name": "python"
    }
  },
  "cells": [
    {
      "cell_type": "markdown",
      "metadata": {
        "id": "view-in-github",
        "colab_type": "text"
      },
      "source": [
        "<a href=\"https://colab.research.google.com/github/Smita569/Amazon-Product_Recommendation_System/blob/main/Amazon_Product_Recommendation_System.ipynb\" target=\"_parent\"><img src=\"https://colab.research.google.com/assets/colab-badge.svg\" alt=\"Open In Colab\"/></a>"
      ]
    },
    {
      "cell_type": "markdown",
      "source": [
        "# 🛍️ **Amazon Product Recommendation System — Industry Case Study** 🛒"
      ],
      "metadata": {
        "id": "kNnTmS8qQA3J"
      }
    },
    {
      "cell_type": "markdown",
      "source": [
        "## Problem statement 🎯"
      ],
      "metadata": {
        "id": "c_NeYmdlQFm8"
      }
    },
    {
      "cell_type": "markdown",
      "source": [
        "Build and evaluate a **hybrid recommendation engine** (content-based + collaborative filtering) for an **e-commerce platform** using product metadata and user behavior data. 🚀🤝💡"
      ],
      "metadata": {
        "id": "wyIPRDieQKNd"
      }
    },
    {
      "cell_type": "markdown",
      "metadata": {
        "id": "8fa7af6b"
      },
      "source": [
        "## Questions: 🤔\n"
      ]
    },
    {
      "cell_type": "markdown",
      "source": [
        "## Section A: Data Understanding & Cleaning 🧹📊\n",
        "\n",
        "**Objective:** Understand the dataset like a data scientist in a product analytics team.\n",
        "\n",
        "### Summarize the dataset:\n",
        "*   Number of unique users, products, and reviews 🧑‍💻📦📝\n",
        "*   Top 5 categories by number of products 🏆🛍️\n",
        "*   Price range and discount insights 💲📉\n",
        "\n",
        "### Clean and preprocess the data:\n",
        "*   Convert prices to numeric 🔢\n",
        "*   Parse categories into hierarchy levels 🌳\n",
        "*   Normalize rating scores and count outliers or Create derived features like price_difference, value_for_money_score, weighted ratings. ⭐💰💯\n",
        "*   Handle missing values or anomalies 🤔❓\n",
        "*   Remove duplicates, invalid records 🚫🚮\n",
        "*   Handle missing ratings/reviews with appropriate strategy 👍👎"
      ],
      "metadata": {
        "id": "05DzX_ooRYLy"
      }
    }
  ]
}